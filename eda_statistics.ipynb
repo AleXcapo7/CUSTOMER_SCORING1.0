{
 "cells": [
  {
   "cell_type": "code",
   "execution_count": null,
   "id": "97518b1e",
   "metadata": {},
   "outputs": [],
   "source": [
    "import pandas as pd\n",
    "import matplotlib.pyplot as plt\n",
    "import seaborn as sns\n",
    "import numpy as np "
   ]
  },
  {
   "cell_type": "code",
   "execution_count": null,
   "id": "06739e9f",
   "metadata": {},
   "outputs": [],
   "source": [
    "df = pd.read_csv('data/loan_data.csv')\n",
    "df.head(100)\n"
   ]
  },
  {
   "cell_type": "code",
   "execution_count": null,
   "id": "599531bc",
   "metadata": {},
   "outputs": [],
   "source": [
    "# Creiamo una tabella di contingenza tra previous_loan_defaults_on_file e loan_status\n",
    "contingenza = pd.crosstab(df['previous_loan_defaults_on_file'], df['loan_status'], margins=True)\n",
    "\n",
    "# Stampa la tabella di contingenza per visualizzare la distribuzione\n",
    "print(contingenza)\n",
    "\n",
    "# Grafico a barre della correlazione tra i default precedenti sui prestiti e lo stato dell'approvazione\n",
    "plt.figure(figsize=(8, 6))\n",
    "sns.countplot(data=df, x='previous_loan_defaults_on_file', hue='loan_status')\n",
    "plt.title(\"Correlazione tra Precedenti Default sui Prestiti e Stato dell'Approvazione\")\n",
    "plt.xlabel(\"Precedenti Default sui Prestiti\")\n",
    "plt.ylabel(\"Conteggio\")\n",
    "plt.legend(title=\"Stato Prestito\", loc='upper right', labels=[\"Respinto\", \"Approvato\"])\n",
    "plt.show()"
   ]
  },
  {
   "cell_type": "code",
   "execution_count": null,
   "id": "194e6c4b",
   "metadata": {},
   "outputs": [],
   "source": [
    "# Creiamo una tabella di contingenza tra previous_loan_defaults_on_file e loan_status\n",
    "contingenza = pd.crosstab(df['previous_loan_defaults_on_file'], df['loan_status'], margins=True)\n",
    "\n",
    "# Stampa la tabella di contingenza per visualizzare la distribuzione\n",
    "print(contingenza)\n",
    "\n",
    "# Grafico a barre della correlazione tra i default precedenti sui prestiti e lo stato dell'approvazione\n",
    "plt.figure(figsize=(8, 6))\n",
    "sns.countplot(data=df, x='previous_loan_defaults_on_file', hue='loan_status')\n",
    "plt.title(\"Correlazione tra Precedenti Default sui Prestiti e Stato dell'Approvazione\")\n",
    "plt.xlabel(\"Precedenti Default sui Prestiti\")\n",
    "plt.ylabel(\"Conteggio\")\n",
    "plt.legend(title=\"Stato Prestito\", loc='upper right', labels=[\"Respinto\", \"Approvato\"])\n",
    "plt.show()"
   ]
  },
  {
   "cell_type": "code",
   "execution_count": null,
   "id": "27c20760",
   "metadata": {},
   "outputs": [],
   "source": [
    "df[df['person_emp_exp'] == 0]['person_income']"
   ]
  },
  {
   "cell_type": "code",
   "execution_count": null,
   "id": "0ec85c75",
   "metadata": {},
   "outputs": [],
   "source": [
    "df.info()"
   ]
  },
  {
   "cell_type": "code",
   "execution_count": null,
   "id": "c61f2e9f",
   "metadata": {},
   "outputs": [],
   "source": [
    "df['loan_status'].value_counts()"
   ]
  },
  {
   "cell_type": "code",
   "execution_count": null,
   "id": "199d4246",
   "metadata": {},
   "outputs": [],
   "source": [
    "# TODO \n",
    "# Grafico a Torta per 'loan_status', 'gender', 'person_education' (dati semplici dentro)\n",
    "# Istogramma per 'credit_score', e altre variabili numeriche interessanti \n"
   ]
  },
  {
   "cell_type": "code",
   "execution_count": null,
   "id": "ce727e24",
   "metadata": {},
   "outputs": [],
   "source": [
    "df['person_education_enc'] = df['person_education'].map({'Bachelor':2,'Master':3})"
   ]
  },
  {
   "cell_type": "code",
   "execution_count": null,
   "id": "4e344386",
   "metadata": {},
   "outputs": [],
   "source": [
    "col_name = 'person_age'\n",
    "bins = 40\n",
    "data = df[col_name]\n",
    "q1, q2, q3 = np.percentile(data, [25, 50, 75])\n",
    "# Creare l'istogramma\n",
    "plt.figure(figsize=(10, 5))\n",
    "plt.hist(data,\n",
    "         bins=bins,\n",
    "         color=\"rebeccapurple\",\n",
    "         edgecolor=\"white\")\n",
    "# Aggiungere linee per i quartili\n",
    "plt.axvline(q1, color=\"orange\", linestyle=\"dashed\", linewidth=2, label=\"1° Quartile (Q1)\")\n",
    "plt.axvline(q2, color=\"red\", linestyle=\"dashed\", linewidth=2, label=\"Mediana (Q2)\")\n",
    "plt.axvline(q3, color=\"pink\", linestyle=\"dashed\", linewidth=2, label=\"3° Quartile (Q3)\")\n",
    "# Aggiungere etichette e titolo\n",
    "plt.xlabel(col_name)\n",
    "plt.ylabel(\"Frequenza\")\n",
    "plt.title(\"Istogramma con Quartili\")\n",
    "plt.legend()\n",
    "plt.grid(axis=\"y\", linestyle=\"--\", alpha=0.7)\n",
    "# Mostrare il grafico\n",
    "plt.show()"
   ]
  },
  {
   "cell_type": "code",
   "execution_count": null,
   "id": "4f45afc3",
   "metadata": {},
   "outputs": [],
   "source": [
    "# Filtra le colonne numeriche\n",
    "df_numerico = df.select_dtypes(include=['number'])\n",
    "\n",
    "# Calcola la matrice di correlazione\n",
    "correlazioni = df_numerico.corr()\n",
    "\n",
    "# Crea il grafico della matrice di correlazione\n",
    "plt.figure(figsize=(10, 8))\n",
    "sns.heatmap(\n",
    "    correlazioni,\n",
    "    annot=True,\n",
    "    cmap='coolwarm',\n",
    "    fmt=\".2f\",\n",
    "    square=True,\n",
    "    linewidths=0.5,\n",
    "    vmin=-1,   # imposta il minimo\n",
    "    vmax=1     # imposta il massimo\n",
    ")\n",
    "plt.title('Matrice di Correlazione delle Variabili Numeriche')\n",
    "plt.tight_layout()\n",
    "plt.show()"
   ]
  }
 ],
 "metadata": {
  "language_info": {
   "name": "python"
  }
 },
 "nbformat": 4,
 "nbformat_minor": 5
}
